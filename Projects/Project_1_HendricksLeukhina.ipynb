{
 "cells": [
  {
   "cell_type": "code",
   "execution_count": 1,
   "metadata": {},
   "outputs": [],
   "source": [
    "import sys\n",
    "import os\n",
    "import matplotlib.pyplot as plt\n",
    "import numpy as np\n",
    "import scipy.stats as st\n",
    "\n",
    "sys.path.append(os.path.abspath('../../transcripty'))\n",
    "import transcripty as tpy\n",
    "\n",
    "%matplotlib inline"
   ]
  },
  {
   "cell_type": "markdown",
   "metadata": {},
   "source": [
    "# How risky is college investment?\n",
    "\n",
    "This project is meant to highlight the importance of packaging your code nicely so that\n",
    "others can build upon your work.\n",
    "\n",
    "In my own research, I benefited that the authors of this paper, Lutz Hendricks and Oksana\n",
    "Leukhina, provided their code and data in a relatively usable format. We hope that after\n",
    "the next few days of instruction, you will be prepared to do an even better job at\n",
    "packaging your research in an easily replicable and repeatable format.\n",
    "\n",
    "We have written two versions of a Python package that contains the code needed to\n",
    "replicate elements Section 2 in their paper. You will be asked to explore some of the\n",
    "implications of their model using this code.\n"
   ]
  },
  {
   "cell_type": "markdown",
   "metadata": {},
   "source": [
    "## Simple model of college credit accumulation\n",
    "\n",
    "In this paper, the authors are interested in \"quantifying the the relative importance of heterogeneity and uncertainty for college dropout decisions.\" One of their innovations beyond what previous work has done is they have a more explicit model of college enrollment, credit accumulation, and dropout decisions.\n",
    "\n",
    "Prior to presenting their full model, the authors use a simple model that only deals with credit accumulation to motivate some of the modeling decisions they make in later sections of the paper. We will focus only on this simple model.\n",
    "\n",
    "### Individual's problem\n",
    "\n",
    "We describe a single individual's problem.\n",
    "\n",
    "The individual begins as a college freshman.\n",
    "\n",
    "They begin their college career at $t=1$ with 0 college credits, $n_0 = 0$\n",
    "\n",
    "* The student draws an ability level, $a \\sim N(0, 1)$\n",
    "* And a noisy signal of that ability given by $\\text{GPA} = a + \\varepsilon$ where $\\varepsilon \\sim N(0, \\sigma_\\varepsilon^2)$.\n",
    "\n",
    "Each year a student attempts to complete $n_{\\text{courses}} = 12$ that are each worth $n_{\\text{credits}} = 3$.\n",
    "\n",
    "The probability that a student successfully passes any given course is given by\n",
    "\n",
    "$$p(a_i) = \\gamma_{\\text{min}} + \\frac{1 - \\gamma_{\\text{min}}}{1 + \\gamma_1 \\exp^{-\\gamma_2 a_i}}$$\n",
    "\n",
    "A student is awarded a degree once they have accumulated 125 credits (completed 42 courses).\n",
    "\n",
    "If a student fails to collect a degree after 6 years, they drop out of college.\n",
    "\n",
    "### Data\n",
    "\n",
    "The authors use data from a proprietary microdata from the High School and Beyond survey\n",
    "administered by the National Center for Education Statistics (NCES) which includes\n",
    "information on a student's HS GPA, college transcript information, and financial\n",
    "resources to calibrate their model.\n",
    "\n"
   ]
  },
  {
   "cell_type": "markdown",
   "metadata": {},
   "source": [
    "## Exploration Exercise\n",
    "\n",
    "The code that replicates the outcomes from Hendricks Leukhina can be found on Github at https://www.github.com/cc7768/transcripty.\n",
    "\n",
    "If you were assigned to an odd numbered group, then you should work off of the `group_odd` branch and if you were assigned to an even numbered group, then you should off of the `group_even` branch.\n",
    "\n",
    "\n",
    "Once you've downloaded the repository and switched to the appropriate branch, you can install the package by entering its folder in a terminal and running `python setup.py install`. You should then be able to work from this notebook and just import the package contents like a normal package i.e., `import transcripty as tpy` (as done at top of the notebook).\n"
   ]
  },
  {
   "cell_type": "markdown",
   "metadata": {},
   "source": [
    "### Exercise 1\n",
    "\n",
    "Using the parameters that follow, simulate the college experience for 25,000 separate individuals. Plot the 10/20/.../90 percentile total credits earned after two years from the simulation against the 10/20/.../90 percentile total credits earned after two years in the data (included in code cell below)."
   ]
  },
  {
   "cell_type": "code",
   "execution_count": 3,
   "metadata": {},
   "outputs": [
    {
     "data": {
      "text/plain": [
       "<BarContainer object of 9 artists>"
      ]
     },
     "execution_count": 3,
     "metadata": {},
     "output_type": "execute_result"
    },
    {
     "data": {
      "image/png": "[encoded data removed]",
      "text/plain": [
       "<Figure size 432x288 with 1 Axes>"
      ]
     },
     "metadata": {
      "needs_background": "light"
     },
     "output_type": "display_data"
    }
   ],
   "source": [
    "# Parameters to use in simulation\n",
    "gamma_min = 0.35\n",
    "gamma_1 = 0.6778\n",
    "gamma_2 = 1.0556\n",
    "sigma = 0.25\n",
    "\n",
    "# Deciles from the data\n",
    "y2_totalcredit_deciles = np.array([\n",
    "    29.0, 41.0, 48.0, 53.37, 57.0, 60.0, 62.97, 66.0, 72.0\n",
    "])\n",
    "\n",
    "# Code to help you plot\n",
    "fig, ax = plt.subplots()\n",
    "\n",
    "x = np.linspace(10, 90, 9)\n",
    "\n",
    "ax.bar(x-1.5, y2_totalcredit_deciles, width=2.)\n",
    "ax.bar(x+1.50, y2_totalcredit_deciles, width=2.)"
   ]
  },
  {
   "cell_type": "code",
   "execution_count": 23,
   "metadata": {},
   "outputs": [],
   "source": [
    "model = tpy.HeterogeneousProbabilityModel(gamma_min,\n",
    "gamma_1,\n",
    "gamma_2,\n",
    "sigma, 2, 12, 3, 125)"
   ]
  },
  {
   "cell_type": "code",
   "execution_count": 24,
   "metadata": {},
   "outputs": [],
   "source": [
    "credits_all = model.simulate(25000)[2]\n",
    "credits2 = credits_all[:, 0:2]\n",
    "credits2 = credits2.sum(axis= 1)"
   ]
  },
  {
   "cell_type": "code",
   "execution_count": 29,
   "metadata": {},
   "outputs": [],
   "source": [
    "quantiles = [0.1, 0.2, 0.3, 0.4 , 0.5, 0.6, 0.7, 0.8, 0.9]\n",
    "series = np.quantile(credits2,quantiles)"
   ]
  },
  {
   "cell_type": "code",
   "execution_count": 32,
   "metadata": {},
   "outputs": [
    {
     "data": {
      "text/plain": [
       "[<matplotlib.lines.Line2D at 0x2405c215710>]"
      ]
     },
     "execution_count": 32,
     "metadata": {},
     "output_type": "execute_result"
    },
    {
     "data": {
      "image/png": "[encoded data removed]",
      "text/plain": [
       "<Figure size 432x288 with 1 Axes>"
      ]
     },
     "metadata": {
      "needs_background": "light"
     },
     "output_type": "display_data"
    }
   ],
   "source": [
    "plt.plot(series)"
   ]
  },
  {
   "cell_type": "code",
   "execution_count": 31,
   "metadata": {},
   "outputs": [
    {
     "data": {
      "text/plain": [
       "array([36., 42., 45., 51., 54., 57., 60., 63., 66.])"
      ]
     },
     "execution_count": 31,
     "metadata": {},
     "output_type": "execute_result"
    }
   ],
   "source": [
    "series"
   ]
  },
  {
   "cell_type": "markdown",
   "metadata": {},
   "source": [
    "### Exercise 2\n",
    "\n",
    "Consider the following alternative model to the one proposed in Hendricks Leukhina. The probability of passing a course is given by $p(a_i) = \\bar{p}$ -- We will call this the common probability model.\n",
    "\n",
    "Find the $\\bar{p}$ that best fits the moments. Now repeat the plot from the cell above with the \"best\" common probability model."
   ]
  },
  {
   "cell_type": "code",
   "execution_count": 5,
   "metadata": {},
   "outputs": [
    {
     "data": {
      "text/plain": [
       "<BarContainer object of 9 artists>"
      ]
     },
     "execution_count": 5,
     "metadata": {},
     "output_type": "execute_result"
    },
    {
     "data": {
      "image/png": "[encoded data removed]",
      "text/plain": [
       "<Figure size 432x288 with 1 Axes>"
      ]
     },
     "metadata": {
      "needs_background": "light"
     },
     "output_type": "display_data"
    }
   ],
   "source": [
    "# Deciles from the data\n",
    "y2_totalcredit_deciles = np.array([\n",
    "    29.0, 41.0, 48.0, 53.37, 57.0, 60.0, 62.97, 66.0, 72.0\n",
    "])\n",
    "\n",
    "# Code to help you plot\n",
    "fig, ax = plt.subplots()\n",
    "\n",
    "x = np.linspace(10, 90, 9)\n",
    "\n",
    "ax.bar(x-1.5, y2_totalcredit_deciles, width=2.)\n",
    "ax.bar(x+1.50, y2_totalcredit_deciles, width=2.)"
   ]
  },
  {
   "cell_type": "code",
   "execution_count": 39,
   "metadata": {},
   "outputs": [
    {
     "name": "stdout",
     "output_type": "stream",
     "text": [
      "100%|██████████████████████████████████████████████████| 200/200 [00:02<00:00, 71.24it/s, best loss: 5176.877842106413]\n"
     ]
    }
   ],
   "source": [
    "parameters  = tpy.data.calibrateCPM(nevals=200)\n",
    "p = parameters[0]['p']\n",
    "p = parameters[0]['sigma']"
   ]
  },
  {
   "cell_type": "markdown",
   "metadata": {},
   "source": [
    "### Exercise 3\n",
    "\n",
    "**Challenging**: Now imagine a researcher discovers a magic pill that improves the probability that an individual passes a class by 5\\%. You as the government only have enough of the pills to give them to one of the GPA quartiles (you can't directly observe ability levels). If you'd like to maximize the overall graduation rate, which GPA quartile do you give the pills to?\n",
    "\n",
    "*Hint*: I would create a new subclass of `CreditAccumulationModel`"
   ]
  },
  {
   "cell_type": "code",
   "execution_count": 36,
   "metadata": {},
   "outputs": [
    {
     "ename": "NameError",
     "evalue": "name 'hp' is not defined",
     "output_type": "error",
     "traceback": [
      "\u001b[1;31m---------------------------------------------------------------------------\u001b[0m",
      "\u001b[1;31mNameError\u001b[0m                                 Traceback (most recent call last)",
      "\u001b[1;32m<ipython-input-36-96a9610f1e75>\u001b[0m in \u001b[0;36m<module>\u001b[1;34m\u001b[0m\n\u001b[1;32m----> 1\u001b[1;33m \u001b[0mhp\u001b[0m\u001b[1;33m.\u001b[0m\u001b[0muniform\u001b[0m\u001b[1;33m(\u001b[0m\u001b[1;34m\"p\"\u001b[0m\u001b[1;33m,\u001b[0m \u001b[1;36m0.01\u001b[0m\u001b[1;33m,\u001b[0m \u001b[1;36m0.99\u001b[0m\u001b[1;33m)\u001b[0m\u001b[1;33m\u001b[0m\u001b[1;33m\u001b[0m\u001b[0m\n\u001b[0m",
      "\u001b[1;31mNameError\u001b[0m: name 'hp' is not defined"
     ]
    }
   ],
   "source": [
    "class CommonProbabilityModel(CreditAccumulationModel):\n",
    "    def __init__(\n",
    "            self, p, sigma, Tc, ncoursesattempted, ncreditspercourse, ncreditsgrad\n",
    "        ):\n",
    "        super().__init__(\n",
    "            Tc, ncoursesattempted, ncreditspercourse, ncreditsgrad, sigma\n",
    "        )\n",
    "        self.p = p\n",
    "\n",
    "    def __call__(self, a, gpa):\n",
    "        if len(np.shape(a)) == 0:\n",
    "            return self.p\n",
    "        else:\n",
    "            return np.ones_like(a)*self.p"
   ]
  }
 ],
 "metadata": {
  "@webio": {
   "lastCommId": "e35f78c1311c4d899d115bec7afccda7",
   "lastKernelId": "af5dccfb-bf14-4ab3-9dc2-618c21cfd601"
  },
  "kernelspec": {
   "display_name": "Python 3",
   "language": "python",
   "name": "python3"
  },
  "language_info": {
   "codemirror_mode": {
    "name": "ipython",
    "version": 3
   },
   "file_extension": ".py",
   "mimetype": "text/x-python",
   "name": "python",
   "nbconvert_exporter": "python",
   "pygments_lexer": "ipython3",
   "version": "3.7.3"
  }
 },
 "nbformat": 4,
 "nbformat_minor": 2
}
