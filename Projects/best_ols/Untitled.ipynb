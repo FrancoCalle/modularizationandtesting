{
 "cells": [
  {
   "cell_type": "code",
   "execution_count": 141,
   "metadata": {},
   "outputs": [],
   "source": [
    "import numpy as np\n",
    "import scipy as sp\n",
    "import scipy.linalg "
   ]
  },
  {
   "cell_type": "code",
   "execution_count": 142,
   "metadata": {},
   "outputs": [],
   "source": [
    "N = 100\n",
    "K = 10\n",
    "X = np.random.normal(3, 8, (N, K))\n",
    "β = np.random.randint(0, 4, (K, 1))\n",
    "e = np.random.normal(0, 10, (N, 1))\n",
    "y = X@β + e"
   ]
  },
  {
   "cell_type": "code",
   "execution_count": 143,
   "metadata": {},
   "outputs": [],
   "source": [
    "def ols(y, X):\n",
    "    XpX = X.T@X\n",
    "    Xpy = X.T@y\n",
    "    β = scipy.linalg.inv(XpX)@Xpy\n",
    "    N = X.shape[0]\n",
    "    pred = X@β\n",
    "    resid = y - pred\n",
    "    sse = sum(resid**2)[0]\n",
    "    mean_sse = sse/(N - 1)\n",
    "    σ2 = mean_sse*scipy.linalg.inv(XpX)\n",
    "    se = np.sqrt(np.diag(σ2))\n",
    "    return β, se"
   ]
  },
  {
   "cell_type": "code",
   "execution_count": 144,
   "metadata": {},
   "outputs": [],
   "source": [
    "βhat, se_hat = ols(y, X)"
   ]
  }
 ],
 "metadata": {
  "kernelspec": {
   "display_name": "Python 3",
   "language": "python",
   "name": "python3"
  },
  "language_info": {
   "codemirror_mode": {
    "name": "ipython",
    "version": 3
   },
   "file_extension": ".py",
   "mimetype": "text/x-python",
   "name": "python",
   "nbconvert_exporter": "python",
   "pygments_lexer": "ipython3",
   "version": "3.7.3"
  }
 },
 "nbformat": 4,
 "nbformat_minor": 2
}
